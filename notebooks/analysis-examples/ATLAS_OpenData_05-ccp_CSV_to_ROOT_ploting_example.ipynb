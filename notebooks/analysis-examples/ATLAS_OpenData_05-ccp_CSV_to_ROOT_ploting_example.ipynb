{
 "cells": [
  {
   "cell_type": "markdown",
   "metadata": {},
   "source": [
    "<CENTER>\n",
    "    <a href=\"http://opendata.atlas.cern\" class=\"icons\"><img src=\"../Assets/ATLASOD.gif\" style=\"width:50%\"></a>\n",
    "</CENTER>"
   ]
  },
  {
   "cell_type": "markdown",
   "metadata": {},
   "source": [
    "<CENTER><h1>Simple CVS to ROOT C++ notebook example</h1></CENTER>"
   ]
  },
  {
   "cell_type": "code",
   "execution_count": 1,
   "metadata": {
    "collapsed": true
   },
   "outputs": [],
   "source": [
    "//%jsroot on"
   ]
  },
  {
   "cell_type": "code",
   "execution_count": 2,
   "metadata": {
    "collapsed": true
   },
   "outputs": [],
   "source": [
    "#include \"Riostream.h\"\n",
    "#include \"TString.h\"\n",
    "#include \"TFile.h\"\n",
    "#include \"TTree.h\"\n",
    "#include \"TSystem.h\"\n",
    "#include <stdio.h>\n",
    "#include <stdlib.h>"
   ]
  },
  {
   "cell_type": "code",
   "execution_count": 3,
   "metadata": {
    "collapsed": false
   },
   "outputs": [
    {
     "name": "stderr",
     "output_type": "stream",
     "text": [
      "rm: cannot remove ‘outreach.csv’: No such file or directory\r\n",
      "--2019-10-23 17:49:48--  http://opendata.atlas.cern/visualisations/CrossFilter/outreach.csv\r\n",
      "Resolving opendata.atlas.cern (opendata.atlas.cern)... failed: Temporary failure in name resolution.\r\n",
      "wget: unable to resolve host address ‘opendata.atlas.cern’\r\n"
     ]
    }
   ],
   "source": [
    "//This two lines can be commented out. You just need it once, and in case the CVS file was not provided already\n",
    "system(\"rm outreach.csv\");\n",
    "system(\"wget http://opendata.atlas.cern/visualisations/CrossFilter/outreach.csv\");\n",
    "\n",
    "//If the file is downloaded with the line above, you *need* to remove the first line of the outreach.csv"
   ]
  },
  {
   "cell_type": "code",
   "execution_count": 4,
   "metadata": {
    "collapsed": true
   },
   "outputs": [],
   "source": [
    "TString dir = gSystem->UnixPathName(__FILE__);\n",
    "dir.ReplaceAll(\"outreach.C\",\"\");\n",
    "dir.ReplaceAll(\"/./\",\"/\");\n",
    "\n",
    "TFile *f = new TFile(\"outreach.root\",\"RECREATE\");"
   ]
  },
  {
   "cell_type": "code",
   "execution_count": 5,
   "metadata": {
    "collapsed": false
   },
   "outputs": [
    {
     "name": "stderr",
     "output_type": "stream",
     "text": [
      "Error in <TTree::ReadFile>: Cannot open file: outreach.csv\r\n"
     ]
    }
   ],
   "source": [
    "TTree *tree = new TTree(\"ntuple\",\"data from csv file\");\n",
    "// The file inside has ---->   type,  Channel,  NJets,  MET,  Mll,  LepDeltaPhi,  METLLDeltaPhi,  SumLepPt,  BTags,  weight\n",
    "tree->ReadFile(\"outreach.csv\",\"type/I:Channel/I:NJets/I:MET/F:Mll/F:LepDeltaPhi/F:METLLDeltaPhi/F:SumLepPt/F:BTags/F:weight/F\",',');\n",
    "f->Write();"
   ]
  },
  {
   "cell_type": "markdown",
   "metadata": {},
   "source": [
    "note that the line above generates a warning. This is because the first line of our CSV file contains the name of the colunms, but this is safely ignored by ROOT."
   ]
  },
  {
   "cell_type": "code",
   "execution_count": null,
   "metadata": {
    "collapsed": false
   },
   "outputs": [],
   "source": [
    "system(\"ls -lhrt outreach.*\");"
   ]
  },
  {
   "cell_type": "markdown",
   "metadata": {},
   "source": [
    "Note in the output of the line above that the resulting ROOT files is ~35% of the size of the original SV file. This is another advantage of the ROOT format for this kind of datasets."
   ]
  },
  {
   "cell_type": "code",
   "execution_count": null,
   "metadata": {
    "collapsed": true
   },
   "outputs": [],
   "source": [
    "TFile *_file0 = TFile::Open(\"outreach.root\");"
   ]
  },
  {
   "cell_type": "code",
   "execution_count": null,
   "metadata": {
    "collapsed": false
   },
   "outputs": [],
   "source": [
    "TCanvas *c3D = new TCanvas(\"c3D\",\"c3D\",10,10,400,400);\n",
    "ntuple->Draw(\"MET:Mll:LepDeltaPhi\",\"MET>0.\");\n",
    "c3D->Draw();"
   ]
  },
  {
   "cell_type": "code",
   "execution_count": null,
   "metadata": {
    "collapsed": true
   },
   "outputs": [],
   "source": [
    "TCanvas *cz = new TCanvas(\"cz\",\"cz\",10,10,400,400);\n",
    "ntuple->Draw(\"Mll:MET\",\"weight>-999\",\"colz\");"
   ]
  },
  {
   "cell_type": "code",
   "execution_count": null,
   "metadata": {
    "collapsed": false
   },
   "outputs": [],
   "source": [
    "cz->Draw();"
   ]
  },
  {
   "cell_type": "code",
   "execution_count": null,
   "metadata": {
    "collapsed": false
   },
   "outputs": [],
   "source": [
    "TCanvas *c2D = new TCanvas(\"c2D\",\"c2D\",10,10,400,400);\n",
    "ntuple->Draw(\"Mll:LepDeltaPhi\",\"MET>0.\",\"colz\");\n",
    "c2D->Draw();"
   ]
  },
  {
   "cell_type": "markdown",
   "metadata": {
    "collapsed": true
   },
   "source": [
    "Below you can try to create a more complex analysis, following what is done in the next notebooks examples in this repository."
   ]
  }
 ],
 "metadata": {
  "kernelspec": {
   "display_name": "ROOT Prompt",
   "language": "c++",
   "name": "root"
  },
  "language_info": {
   "codemirror_mode": {
    "name": "ipython",
    "version": 2
   },
   "file_extension": ".py",
   "mimetype": "text/x-python",
   "name": "python",
   "nbconvert_exporter": "python",
   "pygments_lexer": "ipython2",
   "version": "2.7.9"
  }
 },
 "nbformat": 4,
 "nbformat_minor": 1
}
